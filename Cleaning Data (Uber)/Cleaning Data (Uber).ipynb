{
 "cells": [
  {
   "cell_type": "markdown",
   "id": "13e8baee",
   "metadata": {},
   "source": [
    "# Uber"
   ]
  },
  {
   "cell_type": "markdown",
   "id": "6ef9f4e5",
   "metadata": {},
   "source": [
    "**import libraries**"
   ]
  },
  {
   "cell_type": "code",
   "execution_count": 1,
   "id": "c2806229",
   "metadata": {},
   "outputs": [],
   "source": [
    "import pandas as pd\n",
    "import numpy as np\n",
    "import seaborn as sns \n",
    "import matplotlib.pyplot as plt\n",
    "%matplotlib inline"
   ]
  },
  {
   "cell_type": "markdown",
   "id": "db49b328",
   "metadata": {},
   "source": [
    "**Read the data**"
   ]
  },
  {
   "cell_type": "code",
   "execution_count": 2,
   "id": "9e13ccec",
   "metadata": {},
   "outputs": [],
   "source": [
    "df = pd.read_csv('Uber Request Data .csv')"
   ]
  },
  {
   "cell_type": "markdown",
   "id": "5948a995",
   "metadata": {},
   "source": [
    "**use head() function to display the data**"
   ]
  },
  {
   "cell_type": "code",
   "execution_count": 3,
   "id": "d50ece66",
   "metadata": {},
   "outputs": [
    {
     "data": {
      "text/html": [
       "<div>\n",
       "<style scoped>\n",
       "    .dataframe tbody tr th:only-of-type {\n",
       "        vertical-align: middle;\n",
       "    }\n",
       "\n",
       "    .dataframe tbody tr th {\n",
       "        vertical-align: top;\n",
       "    }\n",
       "\n",
       "    .dataframe thead th {\n",
       "        text-align: right;\n",
       "    }\n",
       "</style>\n",
       "<table border=\"1\" class=\"dataframe\">\n",
       "  <thead>\n",
       "    <tr style=\"text-align: right;\">\n",
       "      <th></th>\n",
       "      <th>Request id</th>\n",
       "      <th>Pickup point</th>\n",
       "      <th>Driver id</th>\n",
       "      <th>Status</th>\n",
       "      <th>Request timestamp</th>\n",
       "      <th>Drop timestamp</th>\n",
       "    </tr>\n",
       "  </thead>\n",
       "  <tbody>\n",
       "    <tr>\n",
       "      <th>0</th>\n",
       "      <td>619</td>\n",
       "      <td>Airport</td>\n",
       "      <td>1.0</td>\n",
       "      <td>Trip Completed</td>\n",
       "      <td>11/7/2016 11:51</td>\n",
       "      <td>11/7/2016 13:00</td>\n",
       "    </tr>\n",
       "    <tr>\n",
       "      <th>1</th>\n",
       "      <td>867</td>\n",
       "      <td>Airport</td>\n",
       "      <td>1.0</td>\n",
       "      <td>Trip Completed</td>\n",
       "      <td>11/7/2016 17:57</td>\n",
       "      <td>11/7/2016 18:47</td>\n",
       "    </tr>\n",
       "    <tr>\n",
       "      <th>2</th>\n",
       "      <td>1807</td>\n",
       "      <td>City</td>\n",
       "      <td>1.0</td>\n",
       "      <td>Trip Completed</td>\n",
       "      <td>12/7/2016 9:17</td>\n",
       "      <td>12/7/2016 9:58</td>\n",
       "    </tr>\n",
       "    <tr>\n",
       "      <th>3</th>\n",
       "      <td>2532</td>\n",
       "      <td>Airport</td>\n",
       "      <td>1.0</td>\n",
       "      <td>Trip Completed</td>\n",
       "      <td>12/7/2016 21:08</td>\n",
       "      <td>12/7/2016 22:03</td>\n",
       "    </tr>\n",
       "    <tr>\n",
       "      <th>4</th>\n",
       "      <td>3112</td>\n",
       "      <td>City</td>\n",
       "      <td>1.0</td>\n",
       "      <td>Trip Completed</td>\n",
       "      <td>13-07-2016 08:33:16</td>\n",
       "      <td>13-07-2016 09:25:47</td>\n",
       "    </tr>\n",
       "  </tbody>\n",
       "</table>\n",
       "</div>"
      ],
      "text/plain": [
       "   Request id Pickup point  Driver id          Status    Request timestamp  \\\n",
       "0         619      Airport        1.0  Trip Completed      11/7/2016 11:51   \n",
       "1         867      Airport        1.0  Trip Completed      11/7/2016 17:57   \n",
       "2        1807         City        1.0  Trip Completed       12/7/2016 9:17   \n",
       "3        2532      Airport        1.0  Trip Completed      12/7/2016 21:08   \n",
       "4        3112         City        1.0  Trip Completed  13-07-2016 08:33:16   \n",
       "\n",
       "        Drop timestamp  \n",
       "0      11/7/2016 13:00  \n",
       "1      11/7/2016 18:47  \n",
       "2       12/7/2016 9:58  \n",
       "3      12/7/2016 22:03  \n",
       "4  13-07-2016 09:25:47  "
      ]
     },
     "execution_count": 3,
     "metadata": {},
     "output_type": "execute_result"
    }
   ],
   "source": [
    "df.head()"
   ]
  },
  {
   "cell_type": "markdown",
   "id": "7cc3d512",
   "metadata": {},
   "source": [
    "**what is the data type of the columns**"
   ]
  },
  {
   "cell_type": "code",
   "execution_count": 4,
   "id": "a454908c",
   "metadata": {},
   "outputs": [
    {
     "name": "stdout",
     "output_type": "stream",
     "text": [
      "<class 'pandas.core.frame.DataFrame'>\n",
      "RangeIndex: 6745 entries, 0 to 6744\n",
      "Data columns (total 6 columns):\n",
      " #   Column             Non-Null Count  Dtype  \n",
      "---  ------             --------------  -----  \n",
      " 0   Request id         6745 non-null   int64  \n",
      " 1   Pickup point       6745 non-null   object \n",
      " 2   Driver id          4095 non-null   float64\n",
      " 3   Status             6745 non-null   object \n",
      " 4   Request timestamp  6745 non-null   object \n",
      " 5   Drop timestamp     2831 non-null   object \n",
      "dtypes: float64(1), int64(1), object(4)\n",
      "memory usage: 316.3+ KB\n"
     ]
    }
   ],
   "source": [
    "df.info()"
   ]
  },
  {
   "cell_type": "markdown",
   "id": "3c90296b",
   "metadata": {},
   "source": [
    "**change the columns data types if it needs and display the data** "
   ]
  },
  {
   "cell_type": "code",
   "execution_count": 5,
   "id": "8a173b8d",
   "metadata": {},
   "outputs": [],
   "source": [
    "df['Request id'] = df['Request id'].astype(str)"
   ]
  },
  {
   "cell_type": "code",
   "execution_count": 6,
   "id": "7b1fa25c",
   "metadata": {},
   "outputs": [
    {
     "data": {
      "text/plain": [
       "Request id            object\n",
       "Pickup point          object\n",
       "Driver id            float64\n",
       "Status                object\n",
       "Request timestamp     object\n",
       "Drop timestamp        object\n",
       "dtype: object"
      ]
     },
     "execution_count": 6,
     "metadata": {},
     "output_type": "execute_result"
    }
   ],
   "source": [
    "df.dtypes"
   ]
  },
  {
   "cell_type": "code",
   "execution_count": 7,
   "id": "6d2a3cd8",
   "metadata": {},
   "outputs": [],
   "source": [
    "df['Driver id'] = df['Driver id'].astype(str)"
   ]
  },
  {
   "cell_type": "markdown",
   "id": "f1f86062",
   "metadata": {},
   "source": [
    "**what is the duration of each trip ?** "
   ]
  },
  {
   "cell_type": "code",
   "execution_count": 9,
   "id": "b57d5b6f",
   "metadata": {},
   "outputs": [
    {
     "data": {
      "text/html": [
       "<div>\n",
       "<style scoped>\n",
       "    .dataframe tbody tr th:only-of-type {\n",
       "        vertical-align: middle;\n",
       "    }\n",
       "\n",
       "    .dataframe tbody tr th {\n",
       "        vertical-align: top;\n",
       "    }\n",
       "\n",
       "    .dataframe thead th {\n",
       "        text-align: right;\n",
       "    }\n",
       "</style>\n",
       "<table border=\"1\" class=\"dataframe\">\n",
       "  <thead>\n",
       "    <tr style=\"text-align: right;\">\n",
       "      <th></th>\n",
       "      <th>Request id</th>\n",
       "      <th>Pickup point</th>\n",
       "      <th>Driver id</th>\n",
       "      <th>Status</th>\n",
       "      <th>Request timestamp</th>\n",
       "      <th>Drop timestamp</th>\n",
       "      <th>RequestYear</th>\n",
       "      <th>RequestMonth</th>\n",
       "      <th>DropYear</th>\n",
       "      <th>DropMonth</th>\n",
       "    </tr>\n",
       "  </thead>\n",
       "  <tbody>\n",
       "    <tr>\n",
       "      <th>0</th>\n",
       "      <td>619</td>\n",
       "      <td>Airport</td>\n",
       "      <td>1.0</td>\n",
       "      <td>Trip Completed</td>\n",
       "      <td>11/7/2016 11:51</td>\n",
       "      <td>11/7/2016 13:00</td>\n",
       "      <td>2016</td>\n",
       "      <td>11</td>\n",
       "      <td>2016</td>\n",
       "      <td>11</td>\n",
       "    </tr>\n",
       "    <tr>\n",
       "      <th>1</th>\n",
       "      <td>867</td>\n",
       "      <td>Airport</td>\n",
       "      <td>1.0</td>\n",
       "      <td>Trip Completed</td>\n",
       "      <td>11/7/2016 17:57</td>\n",
       "      <td>11/7/2016 18:47</td>\n",
       "      <td>2016</td>\n",
       "      <td>11</td>\n",
       "      <td>2016</td>\n",
       "      <td>11</td>\n",
       "    </tr>\n",
       "    <tr>\n",
       "      <th>2</th>\n",
       "      <td>1807</td>\n",
       "      <td>City</td>\n",
       "      <td>1.0</td>\n",
       "      <td>Trip Completed</td>\n",
       "      <td>12/7/2016 9:17</td>\n",
       "      <td>12/7/2016 9:58</td>\n",
       "      <td>2016</td>\n",
       "      <td>12</td>\n",
       "      <td>2016</td>\n",
       "      <td>12</td>\n",
       "    </tr>\n",
       "    <tr>\n",
       "      <th>3</th>\n",
       "      <td>2532</td>\n",
       "      <td>Airport</td>\n",
       "      <td>1.0</td>\n",
       "      <td>Trip Completed</td>\n",
       "      <td>12/7/2016 21:08</td>\n",
       "      <td>12/7/2016 22:03</td>\n",
       "      <td>2016</td>\n",
       "      <td>12</td>\n",
       "      <td>2016</td>\n",
       "      <td>12</td>\n",
       "    </tr>\n",
       "    <tr>\n",
       "      <th>4</th>\n",
       "      <td>3112</td>\n",
       "      <td>City</td>\n",
       "      <td>1.0</td>\n",
       "      <td>Trip Completed</td>\n",
       "      <td>13-07-2016 08:33:16</td>\n",
       "      <td>13-07-2016 09:25:47</td>\n",
       "      <td>2016</td>\n",
       "      <td>7</td>\n",
       "      <td>2016</td>\n",
       "      <td>7</td>\n",
       "    </tr>\n",
       "  </tbody>\n",
       "</table>\n",
       "</div>"
      ],
      "text/plain": [
       "  Request id Pickup point Driver id          Status    Request timestamp  \\\n",
       "0        619      Airport       1.0  Trip Completed      11/7/2016 11:51   \n",
       "1        867      Airport       1.0  Trip Completed      11/7/2016 17:57   \n",
       "2       1807         City       1.0  Trip Completed       12/7/2016 9:17   \n",
       "3       2532      Airport       1.0  Trip Completed      12/7/2016 21:08   \n",
       "4       3112         City       1.0  Trip Completed  13-07-2016 08:33:16   \n",
       "\n",
       "        Drop timestamp  RequestYear  RequestMonth  DropYear  DropMonth  \n",
       "0      11/7/2016 13:00         2016            11      2016         11  \n",
       "1      11/7/2016 18:47         2016            11      2016         11  \n",
       "2       12/7/2016 9:58         2016            12      2016         12  \n",
       "3      12/7/2016 22:03         2016            12      2016         12  \n",
       "4  13-07-2016 09:25:47         2016             7      2016          7  "
      ]
     },
     "execution_count": 9,
     "metadata": {},
     "output_type": "execute_result"
    }
   ],
   "source": [
    "df[\"RequestYear\"] = pd.to_datetime(df[\"Request timestamp\"]).dt.year\n",
    "df[\"RequestMonth\"] = pd.to_datetime(df[\"Request timestamp\"]).dt.month\n",
    "\n",
    "df[\"DropYear\"] = pd.to_datetime(df[\"Drop timestamp\"]).dt.year.astype(\"Int64\")\n",
    "df[\"DropMonth\"] = pd.to_datetime(df[\"Drop timestamp\"]).dt.month.astype(\"Int64\")\n",
    "\n",
    "#df['duration'] = df['Request timestamp'] - df['Drop timestamp']\n",
    "\n",
    "df.head()"
   ]
  },
  {
   "cell_type": "markdown",
   "id": "be90629a",
   "metadata": {},
   "source": [
    "**how many row and columns in the data ?**"
   ]
  },
  {
   "cell_type": "code",
   "execution_count": 10,
   "id": "38828f16",
   "metadata": {},
   "outputs": [
    {
     "data": {
      "text/plain": [
       "(6745, 10)"
      ]
     },
     "execution_count": 10,
     "metadata": {},
     "output_type": "execute_result"
    }
   ],
   "source": [
    "df.shape"
   ]
  },
  {
   "cell_type": "code",
   "execution_count": null,
   "id": "c495848d",
   "metadata": {},
   "outputs": [],
   "source": []
  }
 ],
 "metadata": {
  "kernelspec": {
   "display_name": "Python 3 (ipykernel)",
   "language": "python",
   "name": "python3"
  },
  "language_info": {
   "codemirror_mode": {
    "name": "ipython",
    "version": 3
   },
   "file_extension": ".py",
   "mimetype": "text/x-python",
   "name": "python",
   "nbconvert_exporter": "python",
   "pygments_lexer": "ipython3",
   "version": "3.9.13"
  }
 },
 "nbformat": 4,
 "nbformat_minor": 5
}
